{
  "cells": [
    {
      "cell_type": "markdown",
      "metadata": {
        "colab_type": "text",
        "id": "view-in-github"
      },
      "source": [
        "<a href=\"https://colab.research.google.com/github/RohmaButt/gas-ai-bot-poc/blob/main/TTS%26STT_Ahsan.ipynb\" target=\"_parent\"><img src=\"https://colab.research.google.com/assets/colab-badge.svg\" alt=\"Open In Colab\"/></a>"
      ]
    },
    {
      "cell_type": "code",
      "execution_count": 3,
      "metadata": {
        "colab": {
          "base_uri": "https://localhost:8080/"
        },
        "id": "8iWzHJuuMurS",
        "outputId": "0f6da491-d4cc-4082-a8fa-5e6be0db4b08"
      },
      "outputs": [
        {
          "name": "stdout",
          "output_type": "stream",
          "text": [
            "Requirement already satisfied: gTTS in c:\\users\\dark_coder\\appdata\\local\\programs\\python\\python312\\lib\\site-packages (2.5.4)\n",
            "Requirement already satisfied: requests<3,>=2.27 in c:\\users\\dark_coder\\appdata\\local\\programs\\python\\python312\\lib\\site-packages (from gTTS) (2.32.2)\n",
            "Requirement already satisfied: click<8.2,>=7.1 in c:\\users\\dark_coder\\appdata\\local\\programs\\python\\python312\\lib\\site-packages (from gTTS) (8.1.7)\n",
            "Requirement already satisfied: colorama in c:\\users\\dark_coder\\appdata\\local\\programs\\python\\python312\\lib\\site-packages (from click<8.2,>=7.1->gTTS) (0.4.6)\n",
            "Requirement already satisfied: charset-normalizer<4,>=2 in c:\\users\\dark_coder\\appdata\\local\\programs\\python\\python312\\lib\\site-packages (from requests<3,>=2.27->gTTS) (3.4.1)\n",
            "Requirement already satisfied: idna<4,>=2.5 in c:\\users\\dark_coder\\appdata\\local\\programs\\python\\python312\\lib\\site-packages (from requests<3,>=2.27->gTTS) (3.10)\n",
            "Requirement already satisfied: urllib3<3,>=1.21.1 in c:\\users\\dark_coder\\appdata\\local\\programs\\python\\python312\\lib\\site-packages (from requests<3,>=2.27->gTTS) (2.3.0)\n",
            "Requirement already satisfied: certifi>=2017.4.17 in c:\\users\\dark_coder\\appdata\\local\\programs\\python\\python312\\lib\\site-packages (from requests<3,>=2.27->gTTS) (2025.1.31)\n"
          ]
        },
        {
          "name": "stderr",
          "output_type": "stream",
          "text": [
            "WARNING: Ignoring invalid distribution ~ympy (C:\\Users\\Dark_Coder\\AppData\\Local\\Programs\\Python\\Python312\\Lib\\site-packages)\n",
            "WARNING: Ignoring invalid distribution ~ympy (C:\\Users\\Dark_Coder\\AppData\\Local\\Programs\\Python\\Python312\\Lib\\site-packages)\n",
            "WARNING: Ignoring invalid distribution ~ympy (C:\\Users\\Dark_Coder\\AppData\\Local\\Programs\\Python\\Python312\\Lib\\site-packages)\n"
          ]
        }
      ],
      "source": [
        "!pip install gTTS"
      ]
    },
    {
      "cell_type": "markdown",
      "metadata": {
        "id": "u0XMRAchaU4v"
      },
      "source": [
        "## For English (TTS) Text-to-speech"
      ]
    },
    {
      "cell_type": "code",
      "execution_count": 4,
      "metadata": {
        "colab": {
          "base_uri": "https://localhost:8080/"
        },
        "id": "jNb3rgNhMYJo",
        "outputId": "6df02838-42e6-4e66-b631-0ab4520b319f"
      },
      "outputs": [
        {
          "name": "stdout",
          "output_type": "stream",
          "text": [
            "gTTS audio saved to output_gtts.mp3\n"
          ]
        }
      ],
      "source": [
        "from gtts import gTTS\n",
        "import os\n",
        "\n",
        "def tts_gtts(text, lang='en', output_file='output_gtts.mp3'):\n",
        "  \"\"\"\n",
        "  Performs TTS using gTTS and saves the output to an MP3 file.\n",
        "\n",
        "  Args:\n",
        "    text (str): The text to synthesize.\n",
        "    lang (str): The language code (e.g., 'en', 'es', 'fr').\n",
        "    output_file (str): The name of the output MP3 file.\n",
        "  \"\"\"\n",
        "  try:\n",
        "    tts = gTTS(text=text, lang=lang, slow=False)\n",
        "    tts.save(output_file)\n",
        "    print(f\"gTTS audio saved to {output_file}\")\n",
        "    # You can play the audio in Colab using the following\n",
        "    # from IPython.display import Audio\n",
        "    # return Audio(output_file)\n",
        "  except Exception as e:\n",
        "    print(f\"Error with gTTS: {e}\")\n",
        "\n",
        "# Example usage:\n",
        "text_to_speak = \"Hello, this is a test using gTTS.\"\n",
        "tts_gtts(text_to_speak)\n"
      ]
    },
    {
      "cell_type": "markdown",
      "metadata": {
        "id": "nkqS6Q-sadcr"
      },
      "source": [
        "## For Chinese  (TTS) Text-to-speech"
      ]
    },
    {
      "cell_type": "code",
      "execution_count": 5,
      "metadata": {
        "colab": {
          "base_uri": "https://localhost:8080/"
        },
        "id": "MCHPL_sXZFdr",
        "outputId": "f84ce4b9-0444-4286-9890-a47c388552d3"
      },
      "outputs": [
        {
          "name": "stdout",
          "output_type": "stream",
          "text": [
            "gTTS audio saved to output_gtts_zh.mp3\n"
          ]
        }
      ],
      "source": [
        "\n",
        "text_to_speak_zh = \"你好，这是一个使用gTTS的测试。\"  #你好這是一個使用gtts的測試\n",
        "tts_gtts(text_to_speak_zh, lang='zh-CN', output_file='output_gtts_zh.mp3')"
      ]
    },
    {
      "cell_type": "code",
      "execution_count": 2,
      "metadata": {
        "colab": {
          "base_uri": "https://localhost:8080/"
        },
        "id": "FkEU3UilNodS",
        "outputId": "f4853163-1ccd-4174-de6f-023a67aca0e9"
      },
      "outputs": [
        {
          "name": "stdout",
          "output_type": "stream",
          "text": [
            "Requirement already satisfied: SpeechRecognition in c:\\users\\dark_coder\\appdata\\local\\programs\\python\\python312\\lib\\site-packages (3.10.4)\n",
            "Requirement already satisfied: pydub in c:\\users\\dark_coder\\appdata\\local\\programs\\python\\python312\\lib\\site-packages (0.25.1)\n",
            "Requirement already satisfied: requests>=2.26.0 in c:\\users\\dark_coder\\appdata\\local\\programs\\python\\python312\\lib\\site-packages (from SpeechRecognition) (2.32.2)\n",
            "Requirement already satisfied: typing-extensions in c:\\users\\dark_coder\\appdata\\local\\programs\\python\\python312\\lib\\site-packages (from SpeechRecognition) (4.13.1)\n",
            "Requirement already satisfied: charset-normalizer<4,>=2 in c:\\users\\dark_coder\\appdata\\local\\programs\\python\\python312\\lib\\site-packages (from requests>=2.26.0->SpeechRecognition) (3.4.1)\n",
            "Requirement already satisfied: idna<4,>=2.5 in c:\\users\\dark_coder\\appdata\\local\\programs\\python\\python312\\lib\\site-packages (from requests>=2.26.0->SpeechRecognition) (3.10)\n",
            "Requirement already satisfied: urllib3<3,>=1.21.1 in c:\\users\\dark_coder\\appdata\\local\\programs\\python\\python312\\lib\\site-packages (from requests>=2.26.0->SpeechRecognition) (2.3.0)\n",
            "Requirement already satisfied: certifi>=2017.4.17 in c:\\users\\dark_coder\\appdata\\local\\programs\\python\\python312\\lib\\site-packages (from requests>=2.26.0->SpeechRecognition) (2025.1.31)\n"
          ]
        },
        {
          "name": "stderr",
          "output_type": "stream",
          "text": [
            "WARNING: Ignoring invalid distribution ~ympy (C:\\Users\\Dark_Coder\\AppData\\Local\\Programs\\Python\\Python312\\Lib\\site-packages)\n",
            "WARNING: Ignoring invalid distribution ~ympy (C:\\Users\\Dark_Coder\\AppData\\Local\\Programs\\Python\\Python312\\Lib\\site-packages)\n",
            "WARNING: Ignoring invalid distribution ~ympy (C:\\Users\\Dark_Coder\\AppData\\Local\\Programs\\Python\\Python312\\Lib\\site-packages)\n"
          ]
        }
      ],
      "source": [
        "!pip install SpeechRecognition pydub"
      ]
    },
    {
      "cell_type": "markdown",
      "metadata": {
        "id": "moIRPlKuag0s"
      },
      "source": [
        "## For English  (STT) Speech-to-text"
      ]
    },
    {
      "cell_type": "code",
      "execution_count": 6,
      "metadata": {
        "colab": {
          "base_uri": "https://localhost:8080/"
        },
        "id": "5W10OSQ8NOVf",
        "outputId": "71065294-6f99-4f31-9525-0bd6f74892d6"
      },
      "outputs": [
        {
          "name": "stdout",
          "output_type": "stream",
          "text": [
            "\n",
            "Attempting to transcribe 'output_gtts.mp3' using Google Web Speech API...\n",
            "Converted MP3 to WAV: output_gtts.wav\n",
            "Processing audio file...\n",
            "Sending audio to Google Web Speech API...\n",
            "\n",
            "Transcribed Text:\n",
            "hello this is a test using gtts\n"
          ]
        }
      ],
      "source": [
        "\n",
        "import speech_recognition as sr\n",
        "from pydub import AudioSegment\n",
        "\n",
        "def stt_google_web_speech(audio_file_path):\n",
        "  \"\"\"\n",
        "  Performs STT on an audio file using the Google Web Speech API.\n",
        "\n",
        "  Args:\n",
        "    audio_file_path (str): The path to the audio file.\n",
        "\n",
        "  Returns:\n",
        "    str: The recognized text, or None if recognition fails.\n",
        "  \"\"\"\n",
        "  r = sr.Recognizer()\n",
        "  try:\n",
        "    # Convert audio to a format supported by SpeechRecognition if necessary\n",
        "    # For example, converting mp3 to wav\n",
        "    if audio_file_path.lower().endswith('.mp3'):\n",
        "      audio = AudioSegment.from_mp3(audio_file_path)\n",
        "      wav_file_path = audio_file_path.replace('.mp3', '.wav')\n",
        "      audio.export(wav_file_path, format=\"wav\")\n",
        "      audio_file_path = wav_file_path\n",
        "      print(f\"Converted MP3 to WAV: {audio_file_path}\")\n",
        "\n",
        "    with sr.AudioFile(audio_file_path) as source:\n",
        "      print(\"Processing audio file...\")\n",
        "      audio_data = r.record(source)  # read the entire audio file\n",
        "\n",
        "    print(\"Sending audio to Google Web Speech API...\")\n",
        "    text = r.recognize_google(audio_data)\n",
        "    return text\n",
        "  except sr.UnknownValueError:\n",
        "    print(\"Google Web Speech API could not understand audio\")\n",
        "    return None\n",
        "  except sr.RequestError as e:\n",
        "    print(f\"Could not request results from Google Web Speech API service; {e}\")\n",
        "    return None\n",
        "  except Exception as e:\n",
        "    print(f\"An error occurred: {e}\")\n",
        "    return None\n",
        "\n",
        "# Example Usage:\n",
        "# You would typically upload an audio file to your Colab environment first.\n",
        "# Let's assume you have an audio file named 'my_audio.wav' uploaded.\n",
        "# If you used the gTTS example above, you can try transcribing that output:\n",
        "audio_file_path = 'output_gtts.mp3' # Or the path to your audio file\n",
        "\n",
        "print(f\"\\nAttempting to transcribe '{audio_file_path}' using Google Web Speech API...\")\n",
        "transcribed_text = stt_google_web_speech(audio_file_path)\n",
        "\n",
        "if transcribed_text:\n",
        "  print(\"\\nTranscribed Text:\")\n",
        "  print(transcribed_text)\n",
        "else:\n",
        "  print(\"\\nTranscription failed.\")\n"
      ]
    },
    {
      "cell_type": "markdown",
      "metadata": {
        "id": "NNXA6FOBapHO"
      },
      "source": [
        "## For Chinese (STT) Speech-to-text"
      ]
    },
    {
      "cell_type": "code",
      "execution_count": 7,
      "metadata": {
        "colab": {
          "base_uri": "https://localhost:8080/"
        },
        "id": "lXaZBqkrZ801",
        "outputId": "01d46552-6109-4c0d-a911-d762f9b0ef2d"
      },
      "outputs": [
        {
          "name": "stdout",
          "output_type": "stream",
          "text": [
            "\n",
            "Attempting to transcribe Chinese audio 'output_gtts_zh.mp3' using Google Web Speech API...\n"
          ]
        },
        {
          "name": "stdout",
          "output_type": "stream",
          "text": [
            "Converted MP3 to WAV: output_gtts_zh.wav\n",
            "Processing audio file...\n",
            "Sending audio to Google Web Speech API...\n",
            "\n",
            "Transcribed Chinese Text:\n",
            "你好这是一个使用GTX的测试\n"
          ]
        }
      ],
      "source": [
        "\n",
        "def stt_google_web_speech_chinese(audio_file_path):\n",
        "  \"\"\"\n",
        "  Performs STT on a Chinese audio file using the Google Web Speech API.\n",
        "\n",
        "  Args:\n",
        "    audio_file_path (str): The path to the audio file.\n",
        "\n",
        "  Returns:\n",
        "    str: The recognized text, or None if recognition fails.\n",
        "  \"\"\"\n",
        "  r = sr.Recognizer()\n",
        "  try:\n",
        "    # Convert audio to a format supported by SpeechRecognition if necessary\n",
        "    # For example, converting mp3 to wav\n",
        "    if audio_file_path.lower().endswith('.mp3'):\n",
        "      audio = AudioSegment.from_mp3(audio_file_path)\n",
        "      wav_file_path = audio_file_path.replace('.mp3', '.wav')\n",
        "      audio.export(wav_file_path, format=\"wav\")\n",
        "      audio_file_path = wav_file_path\n",
        "      print(f\"Converted MP3 to WAV: {audio_file_path}\")\n",
        "\n",
        "    with sr.AudioFile(audio_file_path) as source:\n",
        "      print(\"Processing audio file...\")\n",
        "      audio_data = r.record(source)  # read the entire audio file\n",
        "\n",
        "    print(\"Sending audio to Google Web Speech API...\")\n",
        "    # Specify the language as Chinese ('zh-CN')\n",
        "    text = r.recognize_google(audio_data, language='zh-CN')\n",
        "    return text\n",
        "  except sr.UnknownValueError:\n",
        "    print(\"Google Web Speech API could not understand audio (Chinese)\")\n",
        "    return None\n",
        "  except sr.RequestError as e:\n",
        "    print(f\"Could not request results from Google Web Speech API service; {e}\")\n",
        "    return None\n",
        "  except Exception as e:\n",
        "    print(f\"An error occurred: {e}\")\n",
        "    return None\n",
        "\n",
        "# Example Usage for Chinese audio:\n",
        "# Assuming you have an audio file named 'output_gtts_zh.mp3' from the previous gTTS example.\n",
        "audio_file_path_zh = 'output_gtts_zh.mp3' # Or the path to your Chinese audio file\n",
        "\n",
        "print(f\"\\nAttempting to transcribe Chinese audio '{audio_file_path_zh}' using Google Web Speech API...\")\n",
        "transcribed_text_zh = stt_google_web_speech_chinese(audio_file_path_zh)\n",
        "\n",
        "if transcribed_text_zh:\n",
        "  print(\"\\nTranscribed Chinese Text:\")\n",
        "  print(transcribed_text_zh)\n",
        "else:\n",
        "  print(\"\\nChinese transcription failed.\")\n"
      ]
    },
    {
      "cell_type": "markdown",
      "metadata": {},
      "source": [
        "## Now Check the Text-to-SQL  >> Watch "
      ]
    },
    {
      "cell_type": "markdown",
      "metadata": {},
      "source": []
    }
  ],
  "metadata": {
    "colab": {
      "include_colab_link": true,
      "provenance": []
    },
    "kernelspec": {
      "display_name": "Python 3",
      "language": "python",
      "name": "python3"
    },
    "language_info": {
      "codemirror_mode": {
        "name": "ipython",
        "version": 3
      },
      "file_extension": ".py",
      "mimetype": "text/x-python",
      "name": "python",
      "nbconvert_exporter": "python",
      "pygments_lexer": "ipython3",
      "version": "3.12.4"
    }
  },
  "nbformat": 4,
  "nbformat_minor": 0
}
