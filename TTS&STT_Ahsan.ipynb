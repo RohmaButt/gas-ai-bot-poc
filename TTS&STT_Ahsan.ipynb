{
  "nbformat": 4,
  "nbformat_minor": 0,
  "metadata": {
    "colab": {
      "provenance": [],
      "include_colab_link": true
    },
    "kernelspec": {
      "name": "python3",
      "display_name": "Python 3"
    },
    "language_info": {
      "name": "python"
    }
  },
  "cells": [
    {
      "cell_type": "markdown",
      "metadata": {
        "id": "view-in-github",
        "colab_type": "text"
      },
      "source": [
        "<a href=\"https://colab.research.google.com/github/RohmaButt/gas-ai-bot-poc/blob/main/TTS%26STT_Ahsan.ipynb\" target=\"_parent\"><img src=\"https://colab.research.google.com/assets/colab-badge.svg\" alt=\"Open In Colab\"/></a>"
      ]
    },
    {
      "cell_type": "code",
      "source": [
        "!pip install gTTS"
      ],
      "metadata": {
        "colab": {
          "base_uri": "https://localhost:8080/"
        },
        "id": "8iWzHJuuMurS",
        "outputId": "0f6da491-d4cc-4082-a8fa-5e6be0db4b08"
      },
      "execution_count": null,
      "outputs": [
        {
          "output_type": "stream",
          "name": "stdout",
          "text": [
            "Collecting gTTS\n",
            "  Downloading gTTS-2.5.4-py3-none-any.whl.metadata (4.1 kB)\n",
            "Requirement already satisfied: requests<3,>=2.27 in /usr/local/lib/python3.11/dist-packages (from gTTS) (2.32.3)\n",
            "Collecting click<8.2,>=7.1 (from gTTS)\n",
            "  Downloading click-8.1.8-py3-none-any.whl.metadata (2.3 kB)\n",
            "Requirement already satisfied: charset-normalizer<4,>=2 in /usr/local/lib/python3.11/dist-packages (from requests<3,>=2.27->gTTS) (3.4.2)\n",
            "Requirement already satisfied: idna<4,>=2.5 in /usr/local/lib/python3.11/dist-packages (from requests<3,>=2.27->gTTS) (3.10)\n",
            "Requirement already satisfied: urllib3<3,>=1.21.1 in /usr/local/lib/python3.11/dist-packages (from requests<3,>=2.27->gTTS) (2.4.0)\n",
            "Requirement already satisfied: certifi>=2017.4.17 in /usr/local/lib/python3.11/dist-packages (from requests<3,>=2.27->gTTS) (2025.7.9)\n",
            "Downloading gTTS-2.5.4-py3-none-any.whl (29 kB)\n",
            "Downloading click-8.1.8-py3-none-any.whl (98 kB)\n",
            "\u001b[2K   \u001b[90m━━━━━━━━━━━━━━━━━━━━━━━━━━━━━━━━━━━━━━━━\u001b[0m \u001b[32m98.2/98.2 kB\u001b[0m \u001b[31m778.1 kB/s\u001b[0m eta \u001b[36m0:00:00\u001b[0m\n",
            "\u001b[?25hInstalling collected packages: click, gTTS\n",
            "  Attempting uninstall: click\n",
            "    Found existing installation: click 8.2.1\n",
            "    Uninstalling click-8.2.1:\n",
            "      Successfully uninstalled click-8.2.1\n",
            "Successfully installed click-8.1.8 gTTS-2.5.4\n"
          ]
        }
      ]
    },
    {
      "cell_type": "markdown",
      "source": [
        "## For English"
      ],
      "metadata": {
        "id": "u0XMRAchaU4v"
      }
    },
    {
      "cell_type": "code",
      "execution_count": null,
      "metadata": {
        "colab": {
          "base_uri": "https://localhost:8080/"
        },
        "id": "jNb3rgNhMYJo",
        "outputId": "6df02838-42e6-4e66-b631-0ab4520b319f"
      },
      "outputs": [
        {
          "output_type": "stream",
          "name": "stdout",
          "text": [
            "gTTS audio saved to output_gtts.mp3\n"
          ]
        }
      ],
      "source": [
        "from gtts import gTTS\n",
        "import os\n",
        "\n",
        "def tts_gtts(text, lang='en', output_file='output_gtts.mp3'):\n",
        "  \"\"\"\n",
        "  Performs TTS using gTTS and saves the output to an MP3 file.\n",
        "\n",
        "  Args:\n",
        "    text (str): The text to synthesize.\n",
        "    lang (str): The language code (e.g., 'en', 'es', 'fr').\n",
        "    output_file (str): The name of the output MP3 file.\n",
        "  \"\"\"\n",
        "  try:\n",
        "    tts = gTTS(text=text, lang=lang, slow=False)\n",
        "    tts.save(output_file)\n",
        "    print(f\"gTTS audio saved to {output_file}\")\n",
        "    # You can play the audio in Colab using the following\n",
        "    # from IPython.display import Audio\n",
        "    # return Audio(output_file)\n",
        "  except Exception as e:\n",
        "    print(f\"Error with gTTS: {e}\")\n",
        "\n",
        "# Example usage:\n",
        "text_to_speak = \"Hello, this is a test using gTTS.\"\n",
        "tts_gtts(text_to_speak)\n"
      ]
    },
    {
      "cell_type": "markdown",
      "source": [
        "## For Chinese"
      ],
      "metadata": {
        "id": "nkqS6Q-sadcr"
      }
    },
    {
      "cell_type": "code",
      "source": [
        "\n",
        "text_to_speak_zh = \"你好，这是一个使用gTTS的测试。\"\n",
        "tts_gtts(text_to_speak_zh, lang='zh-cn', output_file='output_gtts_zh.mp3')"
      ],
      "metadata": {
        "colab": {
          "base_uri": "https://localhost:8080/"
        },
        "id": "MCHPL_sXZFdr",
        "outputId": "f84ce4b9-0444-4286-9890-a47c388552d3"
      },
      "execution_count": null,
      "outputs": [
        {
          "output_type": "stream",
          "name": "stderr",
          "text": [
            "WARNING:gtts.lang:'zh-cn' has been deprecated, falling back to 'zh-CN'. This fallback will be removed in a future version.\n"
          ]
        },
        {
          "output_type": "stream",
          "name": "stdout",
          "text": [
            "gTTS audio saved to output_gtts_zh.mp3\n"
          ]
        }
      ]
    },
    {
      "cell_type": "code",
      "source": [
        "!pip install pyttsx3"
      ],
      "metadata": {
        "colab": {
          "base_uri": "https://localhost:8080/"
        },
        "id": "OgFazKEfNJHe",
        "outputId": "0d39a644-860f-44c5-a4a4-1043cb49ee9d"
      },
      "execution_count": null,
      "outputs": [
        {
          "output_type": "stream",
          "name": "stdout",
          "text": [
            "Collecting pyttsx3\n",
            "  Downloading pyttsx3-2.99-py3-none-any.whl.metadata (6.2 kB)\n",
            "Downloading pyttsx3-2.99-py3-none-any.whl (32 kB)\n",
            "Installing collected packages: pyttsx3\n",
            "Successfully installed pyttsx3-2.99\n"
          ]
        }
      ]
    },
    {
      "cell_type": "code",
      "source": [
        "!pip install SpeechRecognition pydub"
      ],
      "metadata": {
        "colab": {
          "base_uri": "https://localhost:8080/"
        },
        "id": "FkEU3UilNodS",
        "outputId": "f4853163-1ccd-4174-de6f-023a67aca0e9"
      },
      "execution_count": null,
      "outputs": [
        {
          "output_type": "stream",
          "name": "stdout",
          "text": [
            "Collecting SpeechRecognition\n",
            "  Downloading speechrecognition-3.14.3-py3-none-any.whl.metadata (30 kB)\n",
            "Requirement already satisfied: pydub in /usr/local/lib/python3.11/dist-packages (0.25.1)\n",
            "Requirement already satisfied: typing-extensions in /usr/local/lib/python3.11/dist-packages (from SpeechRecognition) (4.14.1)\n",
            "Downloading speechrecognition-3.14.3-py3-none-any.whl (32.9 MB)\n",
            "\u001b[2K   \u001b[90m━━━━━━━━━━━━━━━━━━━━━━━━━━━━━━━━━━━━━━━━\u001b[0m \u001b[32m32.9/32.9 MB\u001b[0m \u001b[31m19.5 MB/s\u001b[0m eta \u001b[36m0:00:00\u001b[0m\n",
            "\u001b[?25hInstalling collected packages: SpeechRecognition\n",
            "Successfully installed SpeechRecognition-3.14.3\n"
          ]
        }
      ]
    },
    {
      "cell_type": "markdown",
      "source": [
        "## For English"
      ],
      "metadata": {
        "id": "moIRPlKuag0s"
      }
    },
    {
      "cell_type": "code",
      "source": [
        "\n",
        "import speech_recognition as sr\n",
        "from pydub import AudioSegment\n",
        "\n",
        "def stt_google_web_speech(audio_file_path):\n",
        "  \"\"\"\n",
        "  Performs STT on an audio file using the Google Web Speech API.\n",
        "\n",
        "  Args:\n",
        "    audio_file_path (str): The path to the audio file.\n",
        "\n",
        "  Returns:\n",
        "    str: The recognized text, or None if recognition fails.\n",
        "  \"\"\"\n",
        "  r = sr.Recognizer()\n",
        "  try:\n",
        "    # Convert audio to a format supported by SpeechRecognition if necessary\n",
        "    # For example, converting mp3 to wav\n",
        "    if audio_file_path.lower().endswith('.mp3'):\n",
        "      audio = AudioSegment.from_mp3(audio_file_path)\n",
        "      wav_file_path = audio_file_path.replace('.mp3', '.wav')\n",
        "      audio.export(wav_file_path, format=\"wav\")\n",
        "      audio_file_path = wav_file_path\n",
        "      print(f\"Converted MP3 to WAV: {audio_file_path}\")\n",
        "\n",
        "    with sr.AudioFile(audio_file_path) as source:\n",
        "      print(\"Processing audio file...\")\n",
        "      audio_data = r.record(source)  # read the entire audio file\n",
        "\n",
        "    print(\"Sending audio to Google Web Speech API...\")\n",
        "    text = r.recognize_google(audio_data)\n",
        "    return text\n",
        "  except sr.UnknownValueError:\n",
        "    print(\"Google Web Speech API could not understand audio\")\n",
        "    return None\n",
        "  except sr.RequestError as e:\n",
        "    print(f\"Could not request results from Google Web Speech API service; {e}\")\n",
        "    return None\n",
        "  except Exception as e:\n",
        "    print(f\"An error occurred: {e}\")\n",
        "    return None\n",
        "\n",
        "# Example Usage:\n",
        "# You would typically upload an audio file to your Colab environment first.\n",
        "# Let's assume you have an audio file named 'my_audio.wav' uploaded.\n",
        "# If you used the gTTS example above, you can try transcribing that output:\n",
        "audio_file_path = '/content/output_gtts.mp3' # Or the path to your audio file\n",
        "\n",
        "print(f\"\\nAttempting to transcribe '{audio_file_path}' using Google Web Speech API...\")\n",
        "transcribed_text = stt_google_web_speech(audio_file_path)\n",
        "\n",
        "if transcribed_text:\n",
        "  print(\"\\nTranscribed Text:\")\n",
        "  print(transcribed_text)\n",
        "else:\n",
        "  print(\"\\nTranscription failed.\")\n"
      ],
      "metadata": {
        "colab": {
          "base_uri": "https://localhost:8080/"
        },
        "id": "5W10OSQ8NOVf",
        "outputId": "71065294-6f99-4f31-9525-0bd6f74892d6"
      },
      "execution_count": null,
      "outputs": [
        {
          "output_type": "stream",
          "name": "stdout",
          "text": [
            "\n",
            "Attempting to transcribe '/content/output_gtts.mp3' using Google Web Speech API...\n",
            "Converted MP3 to WAV: /content/output_gtts.wav\n",
            "Processing audio file...\n",
            "Sending audio to Google Web Speech API...\n",
            "\n",
            "Transcribed Text:\n",
            "hello this is a test using gtts\n"
          ]
        }
      ]
    },
    {
      "cell_type": "markdown",
      "source": [
        "## For Chinese"
      ],
      "metadata": {
        "id": "NNXA6FOBapHO"
      }
    },
    {
      "cell_type": "code",
      "source": [
        "\n",
        "def stt_google_web_speech_chinese(audio_file_path):\n",
        "  \"\"\"\n",
        "  Performs STT on a Chinese audio file using the Google Web Speech API.\n",
        "\n",
        "  Args:\n",
        "    audio_file_path (str): The path to the audio file.\n",
        "\n",
        "  Returns:\n",
        "    str: The recognized text, or None if recognition fails.\n",
        "  \"\"\"\n",
        "  r = sr.Recognizer()\n",
        "  try:\n",
        "    # Convert audio to a format supported by SpeechRecognition if necessary\n",
        "    # For example, converting mp3 to wav\n",
        "    if audio_file_path.lower().endswith('.mp3'):\n",
        "      audio = AudioSegment.from_mp3(audio_file_path)\n",
        "      wav_file_path = audio_file_path.replace('.mp3', '.wav')\n",
        "      audio.export(wav_file_path, format=\"wav\")\n",
        "      audio_file_path = wav_file_path\n",
        "      print(f\"Converted MP3 to WAV: {audio_file_path}\")\n",
        "\n",
        "    with sr.AudioFile(audio_file_path) as source:\n",
        "      print(\"Processing audio file...\")\n",
        "      audio_data = r.record(source)  # read the entire audio file\n",
        "\n",
        "    print(\"Sending audio to Google Web Speech API...\")\n",
        "    # Specify the language as Chinese ('zh-CN')\n",
        "    text = r.recognize_google(audio_data, language='zh-CN')\n",
        "    return text\n",
        "  except sr.UnknownValueError:\n",
        "    print(\"Google Web Speech API could not understand audio (Chinese)\")\n",
        "    return None\n",
        "  except sr.RequestError as e:\n",
        "    print(f\"Could not request results from Google Web Speech API service; {e}\")\n",
        "    return None\n",
        "  except Exception as e:\n",
        "    print(f\"An error occurred: {e}\")\n",
        "    return None\n",
        "\n",
        "# Example Usage for Chinese audio:\n",
        "# Assuming you have an audio file named 'output_gtts_zh.mp3' from the previous gTTS example.\n",
        "audio_file_path_zh = '/content/output_gtts_zh.mp3' # Or the path to your Chinese audio file\n",
        "\n",
        "print(f\"\\nAttempting to transcribe Chinese audio '{audio_file_path_zh}' using Google Web Speech API...\")\n",
        "transcribed_text_zh = stt_google_web_speech_chinese(audio_file_path_zh)\n",
        "\n",
        "if transcribed_text_zh:\n",
        "  print(\"\\nTranscribed Chinese Text:\")\n",
        "  print(transcribed_text_zh)\n",
        "else:\n",
        "  print(\"\\nChinese transcription failed.\")\n"
      ],
      "metadata": {
        "colab": {
          "base_uri": "https://localhost:8080/"
        },
        "id": "lXaZBqkrZ801",
        "outputId": "01d46552-6109-4c0d-a911-d762f9b0ef2d"
      },
      "execution_count": null,
      "outputs": [
        {
          "output_type": "stream",
          "name": "stdout",
          "text": [
            "\n",
            "Attempting to transcribe Chinese audio '/content/output_gtts_zh.mp3' using Google Web Speech API...\n",
            "Converted MP3 to WAV: /content/output_gtts_zh.wav\n",
            "Processing audio file...\n",
            "Sending audio to Google Web Speech API...\n",
            "\n",
            "Transcribed Chinese Text:\n",
            "你好這是一個使用gtts的測試\n"
          ]
        }
      ]
    },
    {
      "cell_type": "code",
      "source": [
        "!pip install vanna"
      ],
      "metadata": {
        "colab": {
          "base_uri": "https://localhost:8080/",
          "height": 1000
        },
        "id": "cpMx5tEiQdsd",
        "outputId": "ba339d84-4c1a-4d40-95a2-4c596160a623"
      },
      "execution_count": null,
      "outputs": [
        {
          "output_type": "stream",
          "name": "stdout",
          "text": [
            "Collecting vanna\n",
            "  Downloading vanna-0.7.9-py3-none-any.whl.metadata (15 kB)\n",
            "Requirement already satisfied: requests in /usr/local/lib/python3.11/dist-packages (from vanna) (2.32.3)\n",
            "Requirement already satisfied: tabulate in /usr/local/lib/python3.11/dist-packages (from vanna) (0.9.0)\n",
            "Requirement already satisfied: plotly in /usr/local/lib/python3.11/dist-packages (from vanna) (5.24.1)\n",
            "Requirement already satisfied: pandas in /usr/local/lib/python3.11/dist-packages (from vanna) (2.2.2)\n",
            "Requirement already satisfied: sqlparse in /usr/local/lib/python3.11/dist-packages (from vanna) (0.5.3)\n",
            "Collecting kaleido (from vanna)\n",
            "  Downloading kaleido-1.0.0-py3-none-any.whl.metadata (5.6 kB)\n",
            "Requirement already satisfied: flask in /usr/local/lib/python3.11/dist-packages (from vanna) (3.1.1)\n",
            "Collecting flask-sock (from vanna)\n",
            "  Downloading flask_sock-0.7.0-py3-none-any.whl.metadata (1.6 kB)\n",
            "Collecting flasgger (from vanna)\n",
            "  Downloading flasgger-0.9.7.1.tar.gz (4.0 MB)\n",
            "\u001b[2K     \u001b[90m━━━━━━━━━━━━━━━━━━━━━━━━━━━━━━━━━━━━━━━━\u001b[0m \u001b[32m4.0/4.0 MB\u001b[0m \u001b[31m4.7 MB/s\u001b[0m eta \u001b[36m0:00:00\u001b[0m\n",
            "\u001b[?25h  Preparing metadata (setup.py) ... \u001b[?25l\u001b[?25hdone\n",
            "Requirement already satisfied: sqlalchemy in /usr/local/lib/python3.11/dist-packages (from vanna) (2.0.41)\n",
            "Requirement already satisfied: PyYAML>=3.0 in /usr/local/lib/python3.11/dist-packages (from flasgger->vanna) (6.0.2)\n",
            "Requirement already satisfied: jsonschema>=3.0.1 in /usr/local/lib/python3.11/dist-packages (from flasgger->vanna) (4.24.0)\n",
            "Requirement already satisfied: mistune in /usr/local/lib/python3.11/dist-packages (from flasgger->vanna) (3.1.3)\n",
            "Requirement already satisfied: six>=1.10.0 in /usr/local/lib/python3.11/dist-packages (from flasgger->vanna) (1.17.0)\n",
            "Requirement already satisfied: packaging in /usr/local/lib/python3.11/dist-packages (from flasgger->vanna) (24.2)\n",
            "Requirement already satisfied: blinker>=1.9.0 in /usr/local/lib/python3.11/dist-packages (from flask->vanna) (1.9.0)\n",
            "Requirement already satisfied: click>=8.1.3 in /usr/local/lib/python3.11/dist-packages (from flask->vanna) (8.1.8)\n",
            "Requirement already satisfied: itsdangerous>=2.2.0 in /usr/local/lib/python3.11/dist-packages (from flask->vanna) (2.2.0)\n",
            "Requirement already satisfied: jinja2>=3.1.2 in /usr/local/lib/python3.11/dist-packages (from flask->vanna) (3.1.6)\n",
            "Requirement already satisfied: markupsafe>=2.1.1 in /usr/local/lib/python3.11/dist-packages (from flask->vanna) (3.0.2)\n",
            "Requirement already satisfied: werkzeug>=3.1.0 in /usr/local/lib/python3.11/dist-packages (from flask->vanna) (3.1.3)\n",
            "Collecting simple-websocket>=0.5.1 (from flask-sock->vanna)\n",
            "  Downloading simple_websocket-1.1.0-py3-none-any.whl.metadata (1.5 kB)\n",
            "Collecting choreographer>=1.0.5 (from kaleido->vanna)\n",
            "  Downloading choreographer-1.0.9-py3-none-any.whl.metadata (5.6 kB)\n",
            "Collecting logistro>=1.0.8 (from kaleido->vanna)\n",
            "  Downloading logistro-1.1.0-py3-none-any.whl.metadata (2.6 kB)\n",
            "Requirement already satisfied: orjson>=3.10.15 in /usr/local/lib/python3.11/dist-packages (from kaleido->vanna) (3.10.18)\n",
            "Requirement already satisfied: numpy>=1.23.2 in /usr/local/lib/python3.11/dist-packages (from pandas->vanna) (2.0.2)\n",
            "Requirement already satisfied: python-dateutil>=2.8.2 in /usr/local/lib/python3.11/dist-packages (from pandas->vanna) (2.9.0.post0)\n",
            "Requirement already satisfied: pytz>=2020.1 in /usr/local/lib/python3.11/dist-packages (from pandas->vanna) (2025.2)\n",
            "Requirement already satisfied: tzdata>=2022.7 in /usr/local/lib/python3.11/dist-packages (from pandas->vanna) (2025.2)\n",
            "Requirement already satisfied: tenacity>=6.2.0 in /usr/local/lib/python3.11/dist-packages (from plotly->vanna) (8.5.0)\n",
            "Requirement already satisfied: charset-normalizer<4,>=2 in /usr/local/lib/python3.11/dist-packages (from requests->vanna) (3.4.2)\n",
            "Requirement already satisfied: idna<4,>=2.5 in /usr/local/lib/python3.11/dist-packages (from requests->vanna) (3.10)\n",
            "Requirement already satisfied: urllib3<3,>=1.21.1 in /usr/local/lib/python3.11/dist-packages (from requests->vanna) (2.4.0)\n",
            "Requirement already satisfied: certifi>=2017.4.17 in /usr/local/lib/python3.11/dist-packages (from requests->vanna) (2025.7.9)\n",
            "Requirement already satisfied: greenlet>=1 in /usr/local/lib/python3.11/dist-packages (from sqlalchemy->vanna) (3.2.3)\n",
            "Requirement already satisfied: typing-extensions>=4.6.0 in /usr/local/lib/python3.11/dist-packages (from sqlalchemy->vanna) (4.14.1)\n",
            "Requirement already satisfied: simplejson>=3.19.3 in /usr/local/lib/python3.11/dist-packages (from choreographer>=1.0.5->kaleido->vanna) (3.20.1)\n",
            "Requirement already satisfied: attrs>=22.2.0 in /usr/local/lib/python3.11/dist-packages (from jsonschema>=3.0.1->flasgger->vanna) (25.3.0)\n",
            "Requirement already satisfied: jsonschema-specifications>=2023.03.6 in /usr/local/lib/python3.11/dist-packages (from jsonschema>=3.0.1->flasgger->vanna) (2025.4.1)\n",
            "Requirement already satisfied: referencing>=0.28.4 in /usr/local/lib/python3.11/dist-packages (from jsonschema>=3.0.1->flasgger->vanna) (0.36.2)\n",
            "Requirement already satisfied: rpds-py>=0.7.1 in /usr/local/lib/python3.11/dist-packages (from jsonschema>=3.0.1->flasgger->vanna) (0.26.0)\n",
            "Collecting wsproto (from simple-websocket>=0.5.1->flask-sock->vanna)\n",
            "  Downloading wsproto-1.2.0-py3-none-any.whl.metadata (5.6 kB)\n",
            "Requirement already satisfied: h11<1,>=0.9.0 in /usr/local/lib/python3.11/dist-packages (from wsproto->simple-websocket>=0.5.1->flask-sock->vanna) (0.16.0)\n",
            "Downloading vanna-0.7.9-py3-none-any.whl (213 kB)\n",
            "\u001b[2K   \u001b[90m━━━━━━━━━━━━━━━━━━━━━━━━━━━━━━━━━━━━━━━━\u001b[0m \u001b[32m213.2/213.2 kB\u001b[0m \u001b[31m15.1 MB/s\u001b[0m eta \u001b[36m0:00:00\u001b[0m\n",
            "\u001b[?25hDownloading flask_sock-0.7.0-py3-none-any.whl (4.0 kB)\n",
            "Downloading kaleido-1.0.0-py3-none-any.whl (51 kB)\n",
            "\u001b[2K   \u001b[90m━━━━━━━━━━━━━━━━━━━━━━━━━━━━━━━━━━━━━━━━\u001b[0m \u001b[32m51.5/51.5 kB\u001b[0m \u001b[31m3.4 MB/s\u001b[0m eta \u001b[36m0:00:00\u001b[0m\n",
            "\u001b[?25hDownloading choreographer-1.0.9-py3-none-any.whl (51 kB)\n",
            "\u001b[2K   \u001b[90m━━━━━━━━━━━━━━━━━━━━━━━━━━━━━━━━━━━━━━━━\u001b[0m \u001b[32m51.3/51.3 kB\u001b[0m \u001b[31m3.3 MB/s\u001b[0m eta \u001b[36m0:00:00\u001b[0m\n",
            "\u001b[?25hDownloading logistro-1.1.0-py3-none-any.whl (7.9 kB)\n",
            "Downloading simple_websocket-1.1.0-py3-none-any.whl (13 kB)\n",
            "Downloading wsproto-1.2.0-py3-none-any.whl (24 kB)\n",
            "Building wheels for collected packages: flasgger\n",
            "  Building wheel for flasgger (setup.py) ... \u001b[?25l\u001b[?25hdone\n",
            "  Created wheel for flasgger: filename=flasgger-0.9.7.1-py2.py3-none-any.whl size=3865185 sha256=c57254e52c2a4d1c56309314eafbc69e6b2ef1740c3801468a0b9418fbb8a17a\n",
            "  Stored in directory: /root/.cache/pip/wheels/da/2d/f6/c125d4b8701ac49fdb2abbfb978036c46d5ad64d2ffaa2ac34\n",
            "Successfully built flasgger\n",
            "Installing collected packages: wsproto, logistro, simple-websocket, choreographer, kaleido, flask-sock, flasgger, vanna\n",
            "Successfully installed choreographer-1.0.9 flasgger-0.9.7.1 flask-sock-0.7.0 kaleido-1.0.0 logistro-1.1.0 simple-websocket-1.1.0 vanna-0.7.9 wsproto-1.2.0\n"
          ]
        },
        {
          "output_type": "display_data",
          "data": {
            "application/vnd.colab-display-data+json": {
              "pip_warning": {
                "packages": [
                  "site"
                ]
              },
              "id": "505c67a5c053477288b577c22be8afc3"
            }
          },
          "metadata": {}
        }
      ]
    },
    {
      "cell_type": "code",
      "source": [],
      "metadata": {
        "id": "KWLqsG5sOY7j"
      },
      "execution_count": null,
      "outputs": []
    },
    {
      "cell_type": "code",
      "source": [],
      "metadata": {
        "id": "0bAVW5pydukY"
      },
      "execution_count": null,
      "outputs": []
    }
  ]
}